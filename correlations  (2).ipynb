{
 "cells": [
  {
   "cell_type": "code",
   "execution_count": 1,
   "id": "e41ca104-6bc0-4e7e-b810-76c5d541ea1c",
   "metadata": {},
   "outputs": [],
   "source": [
    "import pandas as pd"
   ]
  },
  {
   "cell_type": "code",
   "execution_count": 2,
   "id": "fb14b4e5-7569-4c28-a3ee-f319c94510ec",
   "metadata": {},
   "outputs": [],
   "source": [
    "df=pd.read_excel(\"dow_jones_stocks_close_prices_yahoo.xlsx\")"
   ]
  },
  {
   "cell_type": "code",
   "execution_count": 3,
   "id": "a8730d0d-3925-415a-a655-13c83dfb8946",
   "metadata": {},
   "outputs": [],
   "source": [
    "df.columns=df.columns.str.strip()"
   ]
  },
  {
   "cell_type": "code",
   "execution_count": 4,
   "id": "a32d8277-af66-48e7-830a-a449aff54b0d",
   "metadata": {},
   "outputs": [],
   "source": [
    "items=pd.read_excel(\"Classification of the companies stocks.xlsx\")"
   ]
  },
  {
   "cell_type": "code",
   "execution_count": 5,
   "id": "5a86c4a7-b3a8-46b1-b3d9-794f923d0b66",
   "metadata": {},
   "outputs": [
    {
     "data": {
      "text/html": [
       "<div>\n",
       "<style scoped>\n",
       "    .dataframe tbody tr th:only-of-type {\n",
       "        vertical-align: middle;\n",
       "    }\n",
       "\n",
       "    .dataframe tbody tr th {\n",
       "        vertical-align: top;\n",
       "    }\n",
       "\n",
       "    .dataframe thead th {\n",
       "        text-align: right;\n",
       "    }\n",
       "</style>\n",
       "<table border=\"1\" class=\"dataframe\">\n",
       "  <thead>\n",
       "    <tr style=\"text-align: right;\">\n",
       "      <th></th>\n",
       "      <th>Unnamed: 0</th>\n",
       "      <th>Technology</th>\n",
       "      <th>Health</th>\n",
       "      <th>Finance</th>\n",
       "      <th>Aeronautical and Automotive Industries</th>\n",
       "      <th>Consumer Goods Services</th>\n",
       "      <th>Energy Services</th>\n",
       "      <th>Public Utility Services</th>\n",
       "      <th>Transportation</th>\n",
       "      <th>Real Estate</th>\n",
       "      <th>Communication Services</th>\n",
       "      <th>Materials</th>\n",
       "    </tr>\n",
       "  </thead>\n",
       "  <tbody>\n",
       "    <tr>\n",
       "      <th>0</th>\n",
       "      <td>0</td>\n",
       "      <td>AAPL</td>\n",
       "      <td>UNH</td>\n",
       "      <td>GS</td>\n",
       "      <td>BA</td>\n",
       "      <td>HD</td>\n",
       "      <td>CVX</td>\n",
       "      <td>AEE</td>\n",
       "      <td>ALK</td>\n",
       "      <td>DHI</td>\n",
       "      <td>DIS</td>\n",
       "      <td>FCX</td>\n",
       "    </tr>\n",
       "    <tr>\n",
       "      <th>1</th>\n",
       "      <td>1</td>\n",
       "      <td>MSFT</td>\n",
       "      <td>JNJ</td>\n",
       "      <td>JPM</td>\n",
       "      <td>MMM</td>\n",
       "      <td>MCD</td>\n",
       "      <td>DOW</td>\n",
       "      <td>AEP</td>\n",
       "      <td>AAL</td>\n",
       "      <td>BXP</td>\n",
       "      <td>EA</td>\n",
       "      <td>ECL</td>\n",
       "    </tr>\n",
       "    <tr>\n",
       "      <th>2</th>\n",
       "      <td>2</td>\n",
       "      <td>IBM</td>\n",
       "      <td>-</td>\n",
       "      <td>-</td>\n",
       "      <td>-</td>\n",
       "      <td>-</td>\n",
       "      <td>-</td>\n",
       "      <td>-</td>\n",
       "      <td>-</td>\n",
       "      <td>-</td>\n",
       "      <td>-</td>\n",
       "      <td>-</td>\n",
       "    </tr>\n",
       "    <tr>\n",
       "      <th>3</th>\n",
       "      <td>3</td>\n",
       "      <td>CRM</td>\n",
       "      <td>-</td>\n",
       "      <td>-</td>\n",
       "      <td>-</td>\n",
       "      <td>-</td>\n",
       "      <td>-</td>\n",
       "      <td>-</td>\n",
       "      <td>-</td>\n",
       "      <td>-</td>\n",
       "      <td>-</td>\n",
       "      <td>-</td>\n",
       "    </tr>\n",
       "    <tr>\n",
       "      <th>4</th>\n",
       "      <td>4</td>\n",
       "      <td>INTC</td>\n",
       "      <td>-</td>\n",
       "      <td>-</td>\n",
       "      <td>-</td>\n",
       "      <td>-</td>\n",
       "      <td>-</td>\n",
       "      <td>-</td>\n",
       "      <td>-</td>\n",
       "      <td>-</td>\n",
       "      <td>-</td>\n",
       "      <td>-</td>\n",
       "    </tr>\n",
       "  </tbody>\n",
       "</table>\n",
       "</div>"
      ],
      "text/plain": [
       "   Unnamed: 0 Technology Health Finance  \\\n",
       "0           0       AAPL    UNH      GS   \n",
       "1           1       MSFT    JNJ     JPM   \n",
       "2           2        IBM      -       -   \n",
       "3           3        CRM      -       -   \n",
       "4           4       INTC      -       -   \n",
       "\n",
       "  Aeronautical and Automotive Industries Consumer Goods Services  \\\n",
       "0                                     BA                      HD   \n",
       "1                                    MMM                     MCD   \n",
       "2                                      -                       -   \n",
       "3                                      -                       -   \n",
       "4                                      -                       -   \n",
       "\n",
       "  Energy Services Public Utility Services Transportation Real Estate  \\\n",
       "0             CVX                     AEE            ALK         DHI   \n",
       "1             DOW                     AEP            AAL         BXP   \n",
       "2               -                       -              -           -   \n",
       "3               -                       -              -           -   \n",
       "4               -                       -              -           -   \n",
       "\n",
       "  Communication Services Materials  \n",
       "0                    DIS       FCX  \n",
       "1                     EA       ECL  \n",
       "2                      -         -  \n",
       "3                      -         -  \n",
       "4                      -         -  "
      ]
     },
     "execution_count": 5,
     "metadata": {},
     "output_type": "execute_result"
    }
   ],
   "source": [
    "items"
   ]
  },
  {
   "cell_type": "code",
   "execution_count": 6,
   "id": "55bee91e-e9da-4237-8eee-3b463e3162a5",
   "metadata": {},
   "outputs": [],
   "source": [
    "items_1=items['Technology'][items['Technology'] != '-']"
   ]
  },
  {
   "cell_type": "code",
   "execution_count": 7,
   "id": "61e876eb-833b-4a18-84e5-37c9b4044246",
   "metadata": {},
   "outputs": [],
   "source": [
    "correlation_1=df[items_1].corr()"
   ]
  },
  {
   "cell_type": "code",
   "execution_count": 8,
   "id": "13d6c1cf-cd37-4343-9eb0-89431ab4744c",
   "metadata": {},
   "outputs": [
    {
     "data": {
      "text/html": [
       "<div>\n",
       "<style scoped>\n",
       "    .dataframe tbody tr th:only-of-type {\n",
       "        vertical-align: middle;\n",
       "    }\n",
       "\n",
       "    .dataframe tbody tr th {\n",
       "        vertical-align: top;\n",
       "    }\n",
       "\n",
       "    .dataframe thead th {\n",
       "        text-align: right;\n",
       "    }\n",
       "</style>\n",
       "<table border=\"1\" class=\"dataframe\">\n",
       "  <thead>\n",
       "    <tr style=\"text-align: right;\">\n",
       "      <th></th>\n",
       "      <th>AAPL</th>\n",
       "      <th>MSFT</th>\n",
       "      <th>IBM</th>\n",
       "      <th>CRM</th>\n",
       "      <th>INTC</th>\n",
       "    </tr>\n",
       "  </thead>\n",
       "  <tbody>\n",
       "    <tr>\n",
       "      <th>AAPL</th>\n",
       "      <td>1.000000</td>\n",
       "      <td>0.923100</td>\n",
       "      <td>0.495797</td>\n",
       "      <td>0.539058</td>\n",
       "      <td>-0.562774</td>\n",
       "    </tr>\n",
       "    <tr>\n",
       "      <th>MSFT</th>\n",
       "      <td>0.923100</td>\n",
       "      <td>1.000000</td>\n",
       "      <td>0.687037</td>\n",
       "      <td>0.690145</td>\n",
       "      <td>-0.442935</td>\n",
       "    </tr>\n",
       "    <tr>\n",
       "      <th>IBM</th>\n",
       "      <td>0.495797</td>\n",
       "      <td>0.687037</td>\n",
       "      <td>1.000000</td>\n",
       "      <td>0.396668</td>\n",
       "      <td>-0.317346</td>\n",
       "    </tr>\n",
       "    <tr>\n",
       "      <th>CRM</th>\n",
       "      <td>0.539058</td>\n",
       "      <td>0.690145</td>\n",
       "      <td>0.396668</td>\n",
       "      <td>1.000000</td>\n",
       "      <td>0.135146</td>\n",
       "    </tr>\n",
       "    <tr>\n",
       "      <th>INTC</th>\n",
       "      <td>-0.562774</td>\n",
       "      <td>-0.442935</td>\n",
       "      <td>-0.317346</td>\n",
       "      <td>0.135146</td>\n",
       "      <td>1.000000</td>\n",
       "    </tr>\n",
       "  </tbody>\n",
       "</table>\n",
       "</div>"
      ],
      "text/plain": [
       "          AAPL      MSFT       IBM       CRM      INTC\n",
       "AAPL  1.000000  0.923100  0.495797  0.539058 -0.562774\n",
       "MSFT  0.923100  1.000000  0.687037  0.690145 -0.442935\n",
       "IBM   0.495797  0.687037  1.000000  0.396668 -0.317346\n",
       "CRM   0.539058  0.690145  0.396668  1.000000  0.135146\n",
       "INTC -0.562774 -0.442935 -0.317346  0.135146  1.000000"
      ]
     },
     "execution_count": 8,
     "metadata": {},
     "output_type": "execute_result"
    }
   ],
   "source": [
    "correlation_1"
   ]
  },
  {
   "cell_type": "code",
   "execution_count": 9,
   "id": "f034cb96-ef77-422f-93a9-5af3797ecc46",
   "metadata": {},
   "outputs": [],
   "source": [
    "items_2=items['Health'][items['Health'] != '-']"
   ]
  },
  {
   "cell_type": "code",
   "execution_count": 10,
   "id": "8e530abd-24da-46e5-95e9-2d90f93205fe",
   "metadata": {},
   "outputs": [],
   "source": [
    "correlation_2=df[items_2].corr()"
   ]
  },
  {
   "cell_type": "code",
   "execution_count": 11,
   "id": "45b8d0c6-98ff-427d-b190-2fe69e4ffdca",
   "metadata": {},
   "outputs": [
    {
     "data": {
      "text/html": [
       "<div>\n",
       "<style scoped>\n",
       "    .dataframe tbody tr th:only-of-type {\n",
       "        vertical-align: middle;\n",
       "    }\n",
       "\n",
       "    .dataframe tbody tr th {\n",
       "        vertical-align: top;\n",
       "    }\n",
       "\n",
       "    .dataframe thead th {\n",
       "        text-align: right;\n",
       "    }\n",
       "</style>\n",
       "<table border=\"1\" class=\"dataframe\">\n",
       "  <thead>\n",
       "    <tr style=\"text-align: right;\">\n",
       "      <th></th>\n",
       "      <th>UNH</th>\n",
       "      <th>JNJ</th>\n",
       "    </tr>\n",
       "  </thead>\n",
       "  <tbody>\n",
       "    <tr>\n",
       "      <th>UNH</th>\n",
       "      <td>1.000000</td>\n",
       "      <td>0.732339</td>\n",
       "    </tr>\n",
       "    <tr>\n",
       "      <th>JNJ</th>\n",
       "      <td>0.732339</td>\n",
       "      <td>1.000000</td>\n",
       "    </tr>\n",
       "  </tbody>\n",
       "</table>\n",
       "</div>"
      ],
      "text/plain": [
       "          UNH       JNJ\n",
       "UNH  1.000000  0.732339\n",
       "JNJ  0.732339  1.000000"
      ]
     },
     "execution_count": 11,
     "metadata": {},
     "output_type": "execute_result"
    }
   ],
   "source": [
    "correlation_2"
   ]
  },
  {
   "cell_type": "code",
   "execution_count": 12,
   "id": "487ef8f1-d053-4d5a-ba5f-21d3eae2f254",
   "metadata": {},
   "outputs": [],
   "source": [
    "items_3=items['Finance'][items['Finance'] != '-']"
   ]
  },
  {
   "cell_type": "code",
   "execution_count": 13,
   "id": "796f79e2-dd33-4c8f-991d-b60b3b95bbb5",
   "metadata": {},
   "outputs": [],
   "source": [
    "correlation_3=df[items_3].corr()"
   ]
  },
  {
   "cell_type": "code",
   "execution_count": 14,
   "id": "1ff509ab-3a8a-4e3b-a18f-3ef4da1fb57d",
   "metadata": {},
   "outputs": [
    {
     "data": {
      "text/html": [
       "<div>\n",
       "<style scoped>\n",
       "    .dataframe tbody tr th:only-of-type {\n",
       "        vertical-align: middle;\n",
       "    }\n",
       "\n",
       "    .dataframe tbody tr th {\n",
       "        vertical-align: top;\n",
       "    }\n",
       "\n",
       "    .dataframe thead th {\n",
       "        text-align: right;\n",
       "    }\n",
       "</style>\n",
       "<table border=\"1\" class=\"dataframe\">\n",
       "  <thead>\n",
       "    <tr style=\"text-align: right;\">\n",
       "      <th></th>\n",
       "      <th>GS</th>\n",
       "      <th>JPM</th>\n",
       "    </tr>\n",
       "  </thead>\n",
       "  <tbody>\n",
       "    <tr>\n",
       "      <th>GS</th>\n",
       "      <td>1.000000</td>\n",
       "      <td>0.867881</td>\n",
       "    </tr>\n",
       "    <tr>\n",
       "      <th>JPM</th>\n",
       "      <td>0.867881</td>\n",
       "      <td>1.000000</td>\n",
       "    </tr>\n",
       "  </tbody>\n",
       "</table>\n",
       "</div>"
      ],
      "text/plain": [
       "           GS       JPM\n",
       "GS   1.000000  0.867881\n",
       "JPM  0.867881  1.000000"
      ]
     },
     "execution_count": 14,
     "metadata": {},
     "output_type": "execute_result"
    }
   ],
   "source": [
    "correlation_3"
   ]
  },
  {
   "cell_type": "code",
   "execution_count": 15,
   "id": "53c1ad30-34bc-4aab-af25-916cbb85c361",
   "metadata": {},
   "outputs": [],
   "source": [
    "items_4=items['Aeronautical and Automotive Industries'][items['Aeronautical and Automotive Industries'] != '-']"
   ]
  },
  {
   "cell_type": "code",
   "execution_count": 16,
   "id": "a372fa24-d2e8-4dbd-986e-dc6bbe8ce5e2",
   "metadata": {},
   "outputs": [],
   "source": [
    "correlation_4=df[items_4].corr()"
   ]
  },
  {
   "cell_type": "code",
   "execution_count": 17,
   "id": "2e7fbcc0-8cfa-469d-ac6f-845cba520aea",
   "metadata": {},
   "outputs": [
    {
     "data": {
      "text/html": [
       "<div>\n",
       "<style scoped>\n",
       "    .dataframe tbody tr th:only-of-type {\n",
       "        vertical-align: middle;\n",
       "    }\n",
       "\n",
       "    .dataframe tbody tr th {\n",
       "        vertical-align: top;\n",
       "    }\n",
       "\n",
       "    .dataframe thead th {\n",
       "        text-align: right;\n",
       "    }\n",
       "</style>\n",
       "<table border=\"1\" class=\"dataframe\">\n",
       "  <thead>\n",
       "    <tr style=\"text-align: right;\">\n",
       "      <th></th>\n",
       "      <th>BA</th>\n",
       "      <th>MMM</th>\n",
       "    </tr>\n",
       "  </thead>\n",
       "  <tbody>\n",
       "    <tr>\n",
       "      <th>BA</th>\n",
       "      <td>1.000000</td>\n",
       "      <td>0.330451</td>\n",
       "    </tr>\n",
       "    <tr>\n",
       "      <th>MMM</th>\n",
       "      <td>0.330451</td>\n",
       "      <td>1.000000</td>\n",
       "    </tr>\n",
       "  </tbody>\n",
       "</table>\n",
       "</div>"
      ],
      "text/plain": [
       "           BA       MMM\n",
       "BA   1.000000  0.330451\n",
       "MMM  0.330451  1.000000"
      ]
     },
     "execution_count": 17,
     "metadata": {},
     "output_type": "execute_result"
    }
   ],
   "source": [
    "correlation_4"
   ]
  },
  {
   "cell_type": "code",
   "execution_count": 18,
   "id": "b039b2e1-5737-4566-9a3f-e2ed347d0e52",
   "metadata": {},
   "outputs": [],
   "source": [
    "items_5=items['Consumer Goods Services'][items['Consumer Goods Services'] != '-']"
   ]
  },
  {
   "cell_type": "code",
   "execution_count": 19,
   "id": "73b07ac8-acfe-46c7-80f6-3514a9b1e117",
   "metadata": {},
   "outputs": [],
   "source": [
    "correlation_5=df[items_5].corr()"
   ]
  },
  {
   "cell_type": "code",
   "execution_count": 20,
   "id": "0ef5fc0b-0fba-440c-a1c1-56d1a808bea7",
   "metadata": {},
   "outputs": [
    {
     "data": {
      "text/html": [
       "<div>\n",
       "<style scoped>\n",
       "    .dataframe tbody tr th:only-of-type {\n",
       "        vertical-align: middle;\n",
       "    }\n",
       "\n",
       "    .dataframe tbody tr th {\n",
       "        vertical-align: top;\n",
       "    }\n",
       "\n",
       "    .dataframe thead th {\n",
       "        text-align: right;\n",
       "    }\n",
       "</style>\n",
       "<table border=\"1\" class=\"dataframe\">\n",
       "  <thead>\n",
       "    <tr style=\"text-align: right;\">\n",
       "      <th></th>\n",
       "      <th>HD</th>\n",
       "      <th>MCD</th>\n",
       "    </tr>\n",
       "  </thead>\n",
       "  <tbody>\n",
       "    <tr>\n",
       "      <th>HD</th>\n",
       "      <td>1.000000</td>\n",
       "      <td>0.733638</td>\n",
       "    </tr>\n",
       "    <tr>\n",
       "      <th>MCD</th>\n",
       "      <td>0.733638</td>\n",
       "      <td>1.000000</td>\n",
       "    </tr>\n",
       "  </tbody>\n",
       "</table>\n",
       "</div>"
      ],
      "text/plain": [
       "           HD       MCD\n",
       "HD   1.000000  0.733638\n",
       "MCD  0.733638  1.000000"
      ]
     },
     "execution_count": 20,
     "metadata": {},
     "output_type": "execute_result"
    }
   ],
   "source": [
    "correlation_5"
   ]
  },
  {
   "cell_type": "code",
   "execution_count": 21,
   "id": "cd55d82a-bbca-48d1-a6e7-d48876e67dc9",
   "metadata": {},
   "outputs": [],
   "source": [
    "items_6=items['Energy Services'][items['Energy Services'] != '-']"
   ]
  },
  {
   "cell_type": "code",
   "execution_count": 22,
   "id": "6ac3086a-e9c4-4193-a240-924a7049d0b7",
   "metadata": {},
   "outputs": [],
   "source": [
    "correlation_6=df[items_6].corr()"
   ]
  },
  {
   "cell_type": "code",
   "execution_count": 23,
   "id": "0ba29b5f-f557-4086-9e40-b7f5dda182da",
   "metadata": {},
   "outputs": [
    {
     "data": {
      "text/html": [
       "<div>\n",
       "<style scoped>\n",
       "    .dataframe tbody tr th:only-of-type {\n",
       "        vertical-align: middle;\n",
       "    }\n",
       "\n",
       "    .dataframe tbody tr th {\n",
       "        vertical-align: top;\n",
       "    }\n",
       "\n",
       "    .dataframe thead th {\n",
       "        text-align: right;\n",
       "    }\n",
       "</style>\n",
       "<table border=\"1\" class=\"dataframe\">\n",
       "  <thead>\n",
       "    <tr style=\"text-align: right;\">\n",
       "      <th></th>\n",
       "      <th>CVX</th>\n",
       "      <th>DOW</th>\n",
       "    </tr>\n",
       "  </thead>\n",
       "  <tbody>\n",
       "    <tr>\n",
       "      <th>CVX</th>\n",
       "      <td>1.00000</td>\n",
       "      <td>0.30057</td>\n",
       "    </tr>\n",
       "    <tr>\n",
       "      <th>DOW</th>\n",
       "      <td>0.30057</td>\n",
       "      <td>1.00000</td>\n",
       "    </tr>\n",
       "  </tbody>\n",
       "</table>\n",
       "</div>"
      ],
      "text/plain": [
       "         CVX      DOW\n",
       "CVX  1.00000  0.30057\n",
       "DOW  0.30057  1.00000"
      ]
     },
     "execution_count": 23,
     "metadata": {},
     "output_type": "execute_result"
    }
   ],
   "source": [
    "correlation_6"
   ]
  },
  {
   "cell_type": "code",
   "execution_count": 24,
   "id": "b03bf9d4-9b18-48d7-8ce2-90dc88d565c2",
   "metadata": {},
   "outputs": [],
   "source": [
    "items_7=items['Public Utility Services'][items['Public Utility Services'] != '-']"
   ]
  },
  {
   "cell_type": "code",
   "execution_count": 25,
   "id": "fb1ddfd7-08fe-4dee-9049-cf71443cd1de",
   "metadata": {},
   "outputs": [],
   "source": [
    "correlation_7=df[items_7].corr()"
   ]
  },
  {
   "cell_type": "code",
   "execution_count": 26,
   "id": "aaa86398-72d6-4035-b1a9-1b88df3761e3",
   "metadata": {},
   "outputs": [
    {
     "data": {
      "text/html": [
       "<div>\n",
       "<style scoped>\n",
       "    .dataframe tbody tr th:only-of-type {\n",
       "        vertical-align: middle;\n",
       "    }\n",
       "\n",
       "    .dataframe tbody tr th {\n",
       "        vertical-align: top;\n",
       "    }\n",
       "\n",
       "    .dataframe thead th {\n",
       "        text-align: right;\n",
       "    }\n",
       "</style>\n",
       "<table border=\"1\" class=\"dataframe\">\n",
       "  <thead>\n",
       "    <tr style=\"text-align: right;\">\n",
       "      <th></th>\n",
       "      <th>AEE</th>\n",
       "      <th>AEP</th>\n",
       "    </tr>\n",
       "  </thead>\n",
       "  <tbody>\n",
       "    <tr>\n",
       "      <th>AEE</th>\n",
       "      <td>1.000000</td>\n",
       "      <td>0.677918</td>\n",
       "    </tr>\n",
       "    <tr>\n",
       "      <th>AEP</th>\n",
       "      <td>0.677918</td>\n",
       "      <td>1.000000</td>\n",
       "    </tr>\n",
       "  </tbody>\n",
       "</table>\n",
       "</div>"
      ],
      "text/plain": [
       "          AEE       AEP\n",
       "AEE  1.000000  0.677918\n",
       "AEP  0.677918  1.000000"
      ]
     },
     "execution_count": 26,
     "metadata": {},
     "output_type": "execute_result"
    }
   ],
   "source": [
    "correlation_7"
   ]
  },
  {
   "cell_type": "code",
   "execution_count": 27,
   "id": "b0fd93d8-0975-474e-b0f7-b714b4550d3b",
   "metadata": {},
   "outputs": [],
   "source": [
    "items_8=items['Transportation'][items['Transportation'] != '-']"
   ]
  },
  {
   "cell_type": "code",
   "execution_count": 28,
   "id": "4626395d-321a-4093-af6e-6d49956dd4f5",
   "metadata": {},
   "outputs": [],
   "source": [
    "correlation_8=df[items_8].corr()"
   ]
  },
  {
   "cell_type": "code",
   "execution_count": 29,
   "id": "adb4d61a-ebec-47ff-9234-c20d0e77fbc8",
   "metadata": {},
   "outputs": [
    {
     "data": {
      "text/html": [
       "<div>\n",
       "<style scoped>\n",
       "    .dataframe tbody tr th:only-of-type {\n",
       "        vertical-align: middle;\n",
       "    }\n",
       "\n",
       "    .dataframe tbody tr th {\n",
       "        vertical-align: top;\n",
       "    }\n",
       "\n",
       "    .dataframe thead th {\n",
       "        text-align: right;\n",
       "    }\n",
       "</style>\n",
       "<table border=\"1\" class=\"dataframe\">\n",
       "  <thead>\n",
       "    <tr style=\"text-align: right;\">\n",
       "      <th></th>\n",
       "      <th>ALK</th>\n",
       "      <th>AAL</th>\n",
       "    </tr>\n",
       "  </thead>\n",
       "  <tbody>\n",
       "    <tr>\n",
       "      <th>ALK</th>\n",
       "      <td>1.000000</td>\n",
       "      <td>0.895313</td>\n",
       "    </tr>\n",
       "    <tr>\n",
       "      <th>AAL</th>\n",
       "      <td>0.895313</td>\n",
       "      <td>1.000000</td>\n",
       "    </tr>\n",
       "  </tbody>\n",
       "</table>\n",
       "</div>"
      ],
      "text/plain": [
       "          ALK       AAL\n",
       "ALK  1.000000  0.895313\n",
       "AAL  0.895313  1.000000"
      ]
     },
     "execution_count": 29,
     "metadata": {},
     "output_type": "execute_result"
    }
   ],
   "source": [
    "correlation_8"
   ]
  },
  {
   "cell_type": "code",
   "execution_count": 30,
   "id": "44636091-f2cf-4d6a-b917-27022fd777c7",
   "metadata": {},
   "outputs": [],
   "source": [
    "items_9=items['Real Estate'][items['Real Estate'] != '-']"
   ]
  },
  {
   "cell_type": "code",
   "execution_count": 31,
   "id": "540f9d60-c7fa-4c1a-bf75-35f9bdecbb24",
   "metadata": {},
   "outputs": [],
   "source": [
    "correlation_9=df[items_9].corr()"
   ]
  },
  {
   "cell_type": "code",
   "execution_count": 32,
   "id": "29ba802b-0086-4af7-ad48-42089f217adb",
   "metadata": {},
   "outputs": [
    {
     "data": {
      "text/html": [
       "<div>\n",
       "<style scoped>\n",
       "    .dataframe tbody tr th:only-of-type {\n",
       "        vertical-align: middle;\n",
       "    }\n",
       "\n",
       "    .dataframe tbody tr th {\n",
       "        vertical-align: top;\n",
       "    }\n",
       "\n",
       "    .dataframe thead th {\n",
       "        text-align: right;\n",
       "    }\n",
       "</style>\n",
       "<table border=\"1\" class=\"dataframe\">\n",
       "  <thead>\n",
       "    <tr style=\"text-align: right;\">\n",
       "      <th></th>\n",
       "      <th>DHI</th>\n",
       "      <th>BXP</th>\n",
       "    </tr>\n",
       "  </thead>\n",
       "  <tbody>\n",
       "    <tr>\n",
       "      <th>DHI</th>\n",
       "      <td>1.000000</td>\n",
       "      <td>-0.615858</td>\n",
       "    </tr>\n",
       "    <tr>\n",
       "      <th>BXP</th>\n",
       "      <td>-0.615858</td>\n",
       "      <td>1.000000</td>\n",
       "    </tr>\n",
       "  </tbody>\n",
       "</table>\n",
       "</div>"
      ],
      "text/plain": [
       "          DHI       BXP\n",
       "DHI  1.000000 -0.615858\n",
       "BXP -0.615858  1.000000"
      ]
     },
     "execution_count": 32,
     "metadata": {},
     "output_type": "execute_result"
    }
   ],
   "source": [
    "correlation_9"
   ]
  },
  {
   "cell_type": "code",
   "execution_count": 33,
   "id": "e038c573-b869-41bd-b8d3-ebd3eb0b242a",
   "metadata": {},
   "outputs": [],
   "source": [
    "items_10=items['Communication Services'][items['Communication Services'] != '-']"
   ]
  },
  {
   "cell_type": "code",
   "execution_count": 34,
   "id": "b605f5d9-f77e-4713-9a9e-7b9d39a8eadd",
   "metadata": {},
   "outputs": [],
   "source": [
    "correlation_10=df[items_10].corr()"
   ]
  },
  {
   "cell_type": "code",
   "execution_count": 35,
   "id": "8eacadce-afba-4fa5-82ac-0f1891fbfbd8",
   "metadata": {},
   "outputs": [
    {
     "data": {
      "text/html": [
       "<div>\n",
       "<style scoped>\n",
       "    .dataframe tbody tr th:only-of-type {\n",
       "        vertical-align: middle;\n",
       "    }\n",
       "\n",
       "    .dataframe tbody tr th {\n",
       "        vertical-align: top;\n",
       "    }\n",
       "\n",
       "    .dataframe thead th {\n",
       "        text-align: right;\n",
       "    }\n",
       "</style>\n",
       "<table border=\"1\" class=\"dataframe\">\n",
       "  <thead>\n",
       "    <tr style=\"text-align: right;\">\n",
       "      <th></th>\n",
       "      <th>DIS</th>\n",
       "      <th>EA</th>\n",
       "    </tr>\n",
       "  </thead>\n",
       "  <tbody>\n",
       "    <tr>\n",
       "      <th>DIS</th>\n",
       "      <td>1.000000</td>\n",
       "      <td>0.231438</td>\n",
       "    </tr>\n",
       "    <tr>\n",
       "      <th>EA</th>\n",
       "      <td>0.231438</td>\n",
       "      <td>1.000000</td>\n",
       "    </tr>\n",
       "  </tbody>\n",
       "</table>\n",
       "</div>"
      ],
      "text/plain": [
       "          DIS        EA\n",
       "DIS  1.000000  0.231438\n",
       "EA   0.231438  1.000000"
      ]
     },
     "execution_count": 35,
     "metadata": {},
     "output_type": "execute_result"
    }
   ],
   "source": [
    "correlation_10"
   ]
  },
  {
   "cell_type": "code",
   "execution_count": 36,
   "id": "f48d2652-771e-4ced-ba27-80bb4d0fdcd4",
   "metadata": {},
   "outputs": [],
   "source": [
    "items_11=items['Materials'][items['Materials'] != '-']"
   ]
  },
  {
   "cell_type": "code",
   "execution_count": 37,
   "id": "f055aed3-8231-4ef8-93b8-7e54a5b0a5e5",
   "metadata": {},
   "outputs": [],
   "source": [
    "correlation_11=df[items_11].corr()"
   ]
  },
  {
   "cell_type": "code",
   "execution_count": 38,
   "id": "f246504c-0f72-43c3-83c3-d36afbe361d7",
   "metadata": {},
   "outputs": [
    {
     "data": {
      "text/html": [
       "<div>\n",
       "<style scoped>\n",
       "    .dataframe tbody tr th:only-of-type {\n",
       "        vertical-align: middle;\n",
       "    }\n",
       "\n",
       "    .dataframe tbody tr th {\n",
       "        vertical-align: top;\n",
       "    }\n",
       "\n",
       "    .dataframe thead th {\n",
       "        text-align: right;\n",
       "    }\n",
       "</style>\n",
       "<table border=\"1\" class=\"dataframe\">\n",
       "  <thead>\n",
       "    <tr style=\"text-align: right;\">\n",
       "      <th></th>\n",
       "      <th>FCX</th>\n",
       "      <th>ECL</th>\n",
       "    </tr>\n",
       "  </thead>\n",
       "  <tbody>\n",
       "    <tr>\n",
       "      <th>FCX</th>\n",
       "      <td>1.000000</td>\n",
       "      <td>0.037911</td>\n",
       "    </tr>\n",
       "    <tr>\n",
       "      <th>ECL</th>\n",
       "      <td>0.037911</td>\n",
       "      <td>1.000000</td>\n",
       "    </tr>\n",
       "  </tbody>\n",
       "</table>\n",
       "</div>"
      ],
      "text/plain": [
       "          FCX       ECL\n",
       "FCX  1.000000  0.037911\n",
       "ECL  0.037911  1.000000"
      ]
     },
     "execution_count": 38,
     "metadata": {},
     "output_type": "execute_result"
    }
   ],
   "source": [
    "correlation_11"
   ]
  },
  {
   "cell_type": "markdown",
   "id": "d2a1c59f-4d4c-4c9e-a661-c5a94263b50b",
   "metadata": {},
   "source": [
    "##################################_-----------------------------------####################------------------------########"
   ]
  }
 ],
 "metadata": {
  "kernelspec": {
   "display_name": "Python 3 (ipykernel)",
   "language": "python",
   "name": "python3"
  },
  "language_info": {
   "codemirror_mode": {
    "name": "ipython",
    "version": 3
   },
   "file_extension": ".py",
   "mimetype": "text/x-python",
   "name": "python",
   "nbconvert_exporter": "python",
   "pygments_lexer": "ipython3",
   "version": "3.12.3"
  }
 },
 "nbformat": 4,
 "nbformat_minor": 5
}
